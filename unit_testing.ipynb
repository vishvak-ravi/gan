{
 "cells": [
  {
   "cell_type": "code",
   "execution_count": 1,
   "metadata": {},
   "outputs": [],
   "source": [
    "import torch\n",
    "from model import Maxout, GeneratorZero, DiscriminatorZero\n",
    "from data import MNISTTrainDataLoader"
   ]
  },
  {
   "cell_type": "code",
   "execution_count": 2,
   "metadata": {},
   "outputs": [
    {
     "name": "stdout",
     "output_type": "stream",
     "text": [
      "tensor([[ 1.7576, -0.5966,  0.1197,  0.8276,  0.4078],\n",
      "        [ 0.1855,  1.3380, -0.1030,  0.6960, -0.4888],\n",
      "        [ 0.0442, -0.1757,  0.0903,  0.3157,  1.8142]], grad_fn=<CatBackward0>)\n"
     ]
    },
    {
     "data": {
      "text/plain": [
       "tensor([1.7576, 1.3380, 0.1197, 0.8276, 1.8142], grad_fn=<MaxBackward0>)"
      ]
     },
     "execution_count": 2,
     "metadata": {},
     "output_type": "execute_result"
    }
   ],
   "source": [
    "## Maxout test\n",
    "input_tensor = torch.randn(5)\n",
    "input_tensor\n",
    "maxout = Maxout(3, 5, 5)\n",
    "maxout(input_tensor)"
   ]
  },
  {
   "cell_type": "code",
   "execution_count": 3,
   "metadata": {},
   "outputs": [],
   "source": [
    "## Generator test\n",
    "input_noise = torch.randn(64 * 64)\n",
    "generator = GeneratorZero() #13.4s to load\n",
    "generated = generator(input_noise) #4.5s to inference"
   ]
  },
  {
   "cell_type": "code",
   "execution_count": 4,
   "metadata": {},
   "outputs": [],
   "source": [
    "## Discriminator test\n",
    "discriminator = DiscriminatorZero()"
   ]
  },
  {
   "cell_type": "code",
   "execution_count": 5,
   "metadata": {},
   "outputs": [
    {
     "name": "stdout",
     "output_type": "stream",
     "text": [
      "tensor([[-0.3096, -0.1617,  0.0407,  ...,  0.1730, -0.0835, -0.0271],\n",
      "        [-0.0959, -0.2139, -0.2853,  ...,  0.1883, -0.0151,  0.2537],\n",
      "        [-0.4171,  0.1412, -0.2772,  ...,  0.2737,  0.2526, -0.2261],\n",
      "        [ 0.0037, -0.1928,  0.3753,  ..., -0.0366,  0.0331, -0.0957],\n",
      "        [-0.1233,  0.0349,  0.0480,  ..., -0.1634,  0.0293,  0.1158]],\n",
      "       grad_fn=<CatBackward0>)\n",
      "tensor([[ 0.0081,  0.0898,  0.0488,  ..., -0.0031,  0.0403,  0.1434],\n",
      "        [-0.0341,  0.0195, -0.1025,  ...,  0.1069, -0.0215,  0.0022],\n",
      "        [-0.0137, -0.1366, -0.1502,  ..., -0.0563,  0.0581, -0.0432],\n",
      "        [ 0.1399, -0.0651,  0.0372,  ...,  0.0513,  0.0556,  0.1894],\n",
      "        [ 0.0439,  0.0461,  0.0631,  ...,  0.0226, -0.0095, -0.0130]],\n",
      "       grad_fn=<CatBackward0>)\n",
      "tensor([[-0.1813],\n",
      "        [ 0.0833],\n",
      "        [-0.0015],\n",
      "        [ 0.1843],\n",
      "        [ 0.0160]], grad_fn=<CatBackward0>)\n"
     ]
    },
    {
     "data": {
      "text/plain": [
       "tensor([0.1843], grad_fn=<MaxBackward0>)"
      ]
     },
     "execution_count": 5,
     "metadata": {},
     "output_type": "execute_result"
    }
   ],
   "source": [
    "discriminator(generated)"
   ]
  },
  {
   "cell_type": "code",
   "execution_count": null,
   "metadata": {},
   "outputs": [],
   "source": []
  }
 ],
 "metadata": {
  "kernelspec": {
   "display_name": "gan",
   "language": "python",
   "name": "python3"
  },
  "language_info": {
   "codemirror_mode": {
    "name": "ipython",
    "version": 3
   },
   "file_extension": ".py",
   "mimetype": "text/x-python",
   "name": "python",
   "nbconvert_exporter": "python",
   "pygments_lexer": "ipython3",
   "version": "3.11.9"
  }
 },
 "nbformat": 4,
 "nbformat_minor": 2
}
